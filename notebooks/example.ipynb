{
 "cells": [
  {
   "cell_type": "markdown",
   "metadata": {},
   "source": [
    "## Imports"
   ]
  },
  {
   "cell_type": "code",
   "execution_count": 1,
   "metadata": {},
   "outputs": [],
   "source": [
    "import pandas_profiling\n",
    "import spacy\n",
    "import textacy\n",
    "import pandas as pd\n",
    "import os\n",
    "import ruamel.yaml as yaml\n",
    "import seaborn as sns\n",
    "import matplotlib.pyplot as plt\n",
    "sns.set(style=\"whitegrid\")\n",
    "pd.options.display.max_columns= 150\n",
    "\n",
    "\n",
    "\n",
    "#nlp = spacy.load('en')\n",
    "%matplotlib inline\n",
    "%load_ext autoreload\n",
    "%autoreload 2"
   ]
  },
  {
   "cell_type": "markdown",
   "metadata": {},
   "source": [
    "## Change to root directory"
   ]
  },
  {
   "cell_type": "code",
   "execution_count": 2,
   "metadata": {},
   "outputs": [],
   "source": [
    "NO_CONFIG_ERR_MSG = \"\"\"No config file found. Root directory is determined by presence of \"config.yaml\" file.\"\"\"        \n",
    "\n",
    "original_wd = os.getcwd()\n",
    "\n",
    "# Number of times to move back in directory\n",
    "num_retries = 10\n",
    "for x in range(0, num_retries):\n",
    "    # try to load config file    \n",
    "    try:\n",
    "        with open(\"config.yaml\", 'r') as stream:\n",
    "            cfg = yaml.safe_load(stream)\n",
    "    # If not found move back one directory level\n",
    "    except Exception:\n",
    "        os.chdir('../')\n",
    "        # If reached the max number of directory levels change to original wd and print error msg\n",
    "        if x+1 == num_retries:\n",
    "            os.chdir(original_wd)\n",
    "            print(NO_CONFIG_ERR_MSG)"
   ]
  },
  {
   "cell_type": "markdown",
   "metadata": {},
   "source": [
    "## Import local code"
   ]
  },
  {
   "cell_type": "code",
   "execution_count": 3,
   "metadata": {},
   "outputs": [],
   "source": [
    "from src.convenience_functions.textacy_convenience_functions import load_textacy_corpus\n",
    "from src.convenience_functions.textacy_convenience_functions import entity_statements\n",
    "from src.convenience_functions.textacy_convenience_functions import list_of_entity_statements\n",
    "from src.convenience_functions.textacy_convenience_functions import dask_df_apply\n",
    "from src.textblob_entity_sentiment import textblob_entity_sentiment"
   ]
  },
  {
   "cell_type": "markdown",
   "metadata": {},
   "source": [
    "## Load Data"
   ]
  },
  {
   "cell_type": "markdown",
   "metadata": {},
   "source": [
    "Using movie reviews from lablled IMDB sentiment reviews from [UCI Machine Learning lab](https://archive.ics.uci.edu/ml/datasets/Sentiment+Labelled+Sentences)"
   ]
  },
  {
   "cell_type": "code",
   "execution_count": 4,
   "metadata": {},
   "outputs": [
    {
     "data": {
      "text/html": [
       "<div>\n",
       "<style scoped>\n",
       "    .dataframe tbody tr th:only-of-type {\n",
       "        vertical-align: middle;\n",
       "    }\n",
       "\n",
       "    .dataframe tbody tr th {\n",
       "        vertical-align: top;\n",
       "    }\n",
       "\n",
       "    .dataframe thead th {\n",
       "        text-align: right;\n",
       "    }\n",
       "</style>\n",
       "<table border=\"1\" class=\"dataframe\">\n",
       "  <thead>\n",
       "    <tr style=\"text-align: right;\">\n",
       "      <th></th>\n",
       "      <th>text</th>\n",
       "      <th>sentiment_label</th>\n",
       "    </tr>\n",
       "  </thead>\n",
       "  <tbody>\n",
       "    <tr>\n",
       "      <th>0</th>\n",
       "      <td>A very, very, very slow-moving, aimless movie ...</td>\n",
       "      <td>negative</td>\n",
       "    </tr>\n",
       "    <tr>\n",
       "      <th>1</th>\n",
       "      <td>Not sure who was more lost - the flat characte...</td>\n",
       "      <td>negative</td>\n",
       "    </tr>\n",
       "    <tr>\n",
       "      <th>2</th>\n",
       "      <td>Attempting artiness with black &amp; white and cle...</td>\n",
       "      <td>negative</td>\n",
       "    </tr>\n",
       "    <tr>\n",
       "      <th>3</th>\n",
       "      <td>Very little music or anything to speak of.</td>\n",
       "      <td>negative</td>\n",
       "    </tr>\n",
       "    <tr>\n",
       "      <th>4</th>\n",
       "      <td>The best scene in the movie was when Gerardo i...</td>\n",
       "      <td>positive</td>\n",
       "    </tr>\n",
       "  </tbody>\n",
       "</table>\n",
       "</div>"
      ],
      "text/plain": [
       "                                                text sentiment_label\n",
       "0  A very, very, very slow-moving, aimless movie ...        negative\n",
       "1  Not sure who was more lost - the flat characte...        negative\n",
       "2  Attempting artiness with black & white and cle...        negative\n",
       "3       Very little music or anything to speak of.          negative\n",
       "4  The best scene in the movie was when Gerardo i...        positive"
      ]
     },
     "execution_count": 4,
     "metadata": {},
     "output_type": "execute_result"
    }
   ],
   "source": [
    "text_df = text_reviews = pd.read_table('notebooks/imdb_labelled.txt', header = None)\n",
    "# Assigining column names and labeled sentiments\n",
    "text_df.columns = columns=['text', 'sentiment_label']\n",
    "text_df['sentiment_label'] = text_df['sentiment_label'].map({0:'negative', 1:'positive'})\n",
    "text_df.head()"
   ]
  },
  {
   "cell_type": "markdown",
   "metadata": {},
   "source": [
    "## Dask Multiprocessing of applied textacy docs"
   ]
  },
  {
   "cell_type": "markdown",
   "metadata": {},
   "source": [
    "Using dask to multiprocess the loading of textacy docs for each text\n",
    "\n",
    "1. Use dask to create partitioned dataframe\n",
    "\n",
    "2. To each partition map an apply that creates textacy docs from the Policy_Text column\n",
    "\n",
    "3. Concatenate back to original df"
   ]
  },
  {
   "cell_type": "code",
   "execution_count": 5,
   "metadata": {},
   "outputs": [
    {
     "name": "stdout",
     "output_type": "stream",
     "text": [
      "Wall time: 37.9 s\n"
     ]
    }
   ],
   "source": [
    "%%time\n",
    "textacy_df = dask_df_apply(text_df, 'text', inplace=True)"
   ]
  },
  {
   "cell_type": "code",
   "execution_count": 6,
   "metadata": {},
   "outputs": [
    {
     "data": {
      "text/plain": [
       "Doc(21 tokens; \"A very, very, very slow-moving, aimless movie a...\")"
      ]
     },
     "execution_count": 6,
     "metadata": {},
     "output_type": "execute_result"
    }
   ],
   "source": [
    "textacy_df.textacy_doc.values[0]"
   ]
  },
  {
   "cell_type": "markdown",
   "metadata": {},
   "source": [
    "## Extracting Entity Text, Counts and Sentiments"
   ]
  },
  {
   "cell_type": "code",
   "execution_count": 7,
   "metadata": {},
   "outputs": [],
   "source": [
    "entities_for_sentiment =['characters', 'plot', 'hero', 'villain']"
   ]
  },
  {
   "cell_type": "markdown",
   "metadata": {},
   "source": [
    "#### For each entity selected, return the count of entity occurence as well as mean, min and max of sentiments of sentences that contain said entity"
   ]
  },
  {
   "cell_type": "code",
   "execution_count": 8,
   "metadata": {},
   "outputs": [
    {
     "name": "stdout",
     "output_type": "stream",
     "text": [
      "Wall time: 7.45 s\n"
     ]
    }
   ],
   "source": [
    "%%time \n",
    "sentiments = [textblob_entity_sentiment(df=textacy_df, \n",
    "                                        textacy_col='textacy_doc', \n",
    "                                        entity=entity, \n",
    "                                        inplace=False,\n",
    "                                       keep_stats=['count', 'mean', 'min', 'max']) \n",
    "              for entity\n",
    "              in entities_for_sentiment]\n",
    "# Concat to single df\n",
    "sentiments = pd.concat(sentiments, axis=1)"
   ]
  },
  {
   "cell_type": "markdown",
   "metadata": {},
   "source": [
    "#### As with most text features, these will be sparse"
   ]
  },
  {
   "cell_type": "code",
   "execution_count": 9,
   "metadata": {},
   "outputs": [],
   "source": [
    "texts_with_sentiment_info = pd.concat([textacy_df, sentiments], axis=1)"
   ]
  },
  {
   "cell_type": "code",
   "execution_count": 10,
   "metadata": {},
   "outputs": [
    {
     "data": {
      "text/html": [
       "<div>\n",
       "<style scoped>\n",
       "    .dataframe tbody tr th:only-of-type {\n",
       "        vertical-align: middle;\n",
       "    }\n",
       "\n",
       "    .dataframe tbody tr th {\n",
       "        vertical-align: top;\n",
       "    }\n",
       "\n",
       "    .dataframe thead th {\n",
       "        text-align: right;\n",
       "    }\n",
       "</style>\n",
       "<table border=\"1\" class=\"dataframe\">\n",
       "  <thead>\n",
       "    <tr style=\"text-align: right;\">\n",
       "      <th></th>\n",
       "      <th>text</th>\n",
       "      <th>sentiment_label</th>\n",
       "      <th>textacy_doc</th>\n",
       "      <th>characters_polarity_count</th>\n",
       "      <th>characters_polarity_mean</th>\n",
       "      <th>characters_polarity_min</th>\n",
       "      <th>characters_polarity_max</th>\n",
       "      <th>plot_polarity_count</th>\n",
       "      <th>plot_polarity_mean</th>\n",
       "      <th>plot_polarity_min</th>\n",
       "      <th>plot_polarity_max</th>\n",
       "      <th>hero_polarity_count</th>\n",
       "      <th>hero_polarity_mean</th>\n",
       "      <th>hero_polarity_min</th>\n",
       "      <th>hero_polarity_max</th>\n",
       "      <th>villain_polarity_count</th>\n",
       "      <th>villain_polarity_mean</th>\n",
       "      <th>villain_polarity_min</th>\n",
       "      <th>villain_polarity_max</th>\n",
       "    </tr>\n",
       "  </thead>\n",
       "  <tbody>\n",
       "    <tr>\n",
       "      <th>0</th>\n",
       "      <td>A very, very, very slow-moving, aimless movie ...</td>\n",
       "      <td>negative</td>\n",
       "      <td>(A, very, ,, very, ,, very, slow, -, moving, ,...</td>\n",
       "      <td>NaN</td>\n",
       "      <td>NaN</td>\n",
       "      <td>NaN</td>\n",
       "      <td>NaN</td>\n",
       "      <td>NaN</td>\n",
       "      <td>NaN</td>\n",
       "      <td>NaN</td>\n",
       "      <td>NaN</td>\n",
       "      <td>NaN</td>\n",
       "      <td>NaN</td>\n",
       "      <td>NaN</td>\n",
       "      <td>NaN</td>\n",
       "      <td>NaN</td>\n",
       "      <td>NaN</td>\n",
       "      <td>NaN</td>\n",
       "      <td>NaN</td>\n",
       "    </tr>\n",
       "    <tr>\n",
       "      <th>1</th>\n",
       "      <td>Not sure who was more lost - the flat characte...</td>\n",
       "      <td>negative</td>\n",
       "      <td>(Not, sure, who, was, more, lost, -, the, flat...</td>\n",
       "      <td>1.0</td>\n",
       "      <td>0.014583</td>\n",
       "      <td>0.014583</td>\n",
       "      <td>0.014583</td>\n",
       "      <td>NaN</td>\n",
       "      <td>NaN</td>\n",
       "      <td>NaN</td>\n",
       "      <td>NaN</td>\n",
       "      <td>NaN</td>\n",
       "      <td>NaN</td>\n",
       "      <td>NaN</td>\n",
       "      <td>NaN</td>\n",
       "      <td>NaN</td>\n",
       "      <td>NaN</td>\n",
       "      <td>NaN</td>\n",
       "      <td>NaN</td>\n",
       "    </tr>\n",
       "    <tr>\n",
       "      <th>2</th>\n",
       "      <td>Attempting artiness with black &amp; white and cle...</td>\n",
       "      <td>negative</td>\n",
       "      <td>(Attempting, artiness, with, black, &amp;, white, ...</td>\n",
       "      <td>NaN</td>\n",
       "      <td>NaN</td>\n",
       "      <td>NaN</td>\n",
       "      <td>NaN</td>\n",
       "      <td>1.0</td>\n",
       "      <td>-0.122917</td>\n",
       "      <td>-0.122917</td>\n",
       "      <td>-0.122917</td>\n",
       "      <td>NaN</td>\n",
       "      <td>NaN</td>\n",
       "      <td>NaN</td>\n",
       "      <td>NaN</td>\n",
       "      <td>NaN</td>\n",
       "      <td>NaN</td>\n",
       "      <td>NaN</td>\n",
       "      <td>NaN</td>\n",
       "    </tr>\n",
       "    <tr>\n",
       "      <th>3</th>\n",
       "      <td>Very little music or anything to speak of.</td>\n",
       "      <td>negative</td>\n",
       "      <td>(Very, little, music, or, anything, to, speak,...</td>\n",
       "      <td>NaN</td>\n",
       "      <td>NaN</td>\n",
       "      <td>NaN</td>\n",
       "      <td>NaN</td>\n",
       "      <td>NaN</td>\n",
       "      <td>NaN</td>\n",
       "      <td>NaN</td>\n",
       "      <td>NaN</td>\n",
       "      <td>NaN</td>\n",
       "      <td>NaN</td>\n",
       "      <td>NaN</td>\n",
       "      <td>NaN</td>\n",
       "      <td>NaN</td>\n",
       "      <td>NaN</td>\n",
       "      <td>NaN</td>\n",
       "      <td>NaN</td>\n",
       "    </tr>\n",
       "    <tr>\n",
       "      <th>4</th>\n",
       "      <td>The best scene in the movie was when Gerardo i...</td>\n",
       "      <td>positive</td>\n",
       "      <td>(The, best, scene, in, the, movie, was, when, ...</td>\n",
       "      <td>NaN</td>\n",
       "      <td>NaN</td>\n",
       "      <td>NaN</td>\n",
       "      <td>NaN</td>\n",
       "      <td>NaN</td>\n",
       "      <td>NaN</td>\n",
       "      <td>NaN</td>\n",
       "      <td>NaN</td>\n",
       "      <td>NaN</td>\n",
       "      <td>NaN</td>\n",
       "      <td>NaN</td>\n",
       "      <td>NaN</td>\n",
       "      <td>NaN</td>\n",
       "      <td>NaN</td>\n",
       "      <td>NaN</td>\n",
       "      <td>NaN</td>\n",
       "    </tr>\n",
       "  </tbody>\n",
       "</table>\n",
       "</div>"
      ],
      "text/plain": [
       "                                                text sentiment_label  \\\n",
       "0  A very, very, very slow-moving, aimless movie ...        negative   \n",
       "1  Not sure who was more lost - the flat characte...        negative   \n",
       "2  Attempting artiness with black & white and cle...        negative   \n",
       "3       Very little music or anything to speak of.          negative   \n",
       "4  The best scene in the movie was when Gerardo i...        positive   \n",
       "\n",
       "                                         textacy_doc  \\\n",
       "0  (A, very, ,, very, ,, very, slow, -, moving, ,...   \n",
       "1  (Not, sure, who, was, more, lost, -, the, flat...   \n",
       "2  (Attempting, artiness, with, black, &, white, ...   \n",
       "3  (Very, little, music, or, anything, to, speak,...   \n",
       "4  (The, best, scene, in, the, movie, was, when, ...   \n",
       "\n",
       "   characters_polarity_count  characters_polarity_mean  \\\n",
       "0                        NaN                       NaN   \n",
       "1                        1.0                  0.014583   \n",
       "2                        NaN                       NaN   \n",
       "3                        NaN                       NaN   \n",
       "4                        NaN                       NaN   \n",
       "\n",
       "   characters_polarity_min  characters_polarity_max  plot_polarity_count  \\\n",
       "0                      NaN                      NaN                  NaN   \n",
       "1                 0.014583                 0.014583                  NaN   \n",
       "2                      NaN                      NaN                  1.0   \n",
       "3                      NaN                      NaN                  NaN   \n",
       "4                      NaN                      NaN                  NaN   \n",
       "\n",
       "   plot_polarity_mean  plot_polarity_min  plot_polarity_max  \\\n",
       "0                 NaN                NaN                NaN   \n",
       "1                 NaN                NaN                NaN   \n",
       "2           -0.122917          -0.122917          -0.122917   \n",
       "3                 NaN                NaN                NaN   \n",
       "4                 NaN                NaN                NaN   \n",
       "\n",
       "   hero_polarity_count  hero_polarity_mean  hero_polarity_min  \\\n",
       "0                  NaN                 NaN                NaN   \n",
       "1                  NaN                 NaN                NaN   \n",
       "2                  NaN                 NaN                NaN   \n",
       "3                  NaN                 NaN                NaN   \n",
       "4                  NaN                 NaN                NaN   \n",
       "\n",
       "   hero_polarity_max  villain_polarity_count  villain_polarity_mean  \\\n",
       "0                NaN                     NaN                    NaN   \n",
       "1                NaN                     NaN                    NaN   \n",
       "2                NaN                     NaN                    NaN   \n",
       "3                NaN                     NaN                    NaN   \n",
       "4                NaN                     NaN                    NaN   \n",
       "\n",
       "   villain_polarity_min  villain_polarity_max  \n",
       "0                   NaN                   NaN  \n",
       "1                   NaN                   NaN  \n",
       "2                   NaN                   NaN  \n",
       "3                   NaN                   NaN  \n",
       "4                   NaN                   NaN  "
      ]
     },
     "execution_count": 10,
     "metadata": {},
     "output_type": "execute_result"
    }
   ],
   "source": [
    "texts_with_sentiment_info.head()"
   ]
  },
  {
   "cell_type": "markdown",
   "metadata": {},
   "source": [
    "## Slicing Sentiments by Label"
   ]
  },
  {
   "cell_type": "code",
   "execution_count": 11,
   "metadata": {},
   "outputs": [],
   "source": [
    "groupby_label = (\n",
    " # Group by sentiment label\n",
    " texts_with_sentiment_info.groupby(by=['sentiment_label'])\n",
    " # Find mean\n",
    " .mean()\n",
    " # Filter down to character/plot sentiment entity average\n",
    " .filter(regex='characters.*mean$|plot.*mean$')\n",
    " .reset_index()\n",
    " # melt down to tidy data format\n",
    " .pipe(pd.melt, id_vars=['sentiment_label'],\n",
    "                         value_vars=['characters_polarity_mean', 'plot_polarity_mean'],\n",
    "                         var_name='entity',\n",
    "                         value_name='avg_sentiment')\n",
    " # Split entity string down to entity searched for\n",
    " .assign(entity= lambda x: x['entity'].apply(lambda x: x.split('_')[0]) )\n",
    ")"
   ]
  },
  {
   "cell_type": "markdown",
   "metadata": {},
   "source": [
    "## Plot Sentiment"
   ]
  },
  {
   "cell_type": "code",
   "execution_count": 12,
   "metadata": {},
   "outputs": [
    {
     "data": {
      "text/plain": [
       "<seaborn.axisgrid.FacetGrid at 0x17c2923ea20>"
      ]
     },
     "execution_count": 12,
     "metadata": {},
     "output_type": "execute_result"
    },
    {
     "data": {
      "image/png": "[encoded data removed]",
      "text/plain": [
       "<Figure size 506.125x432 with 1 Axes>"
      ]
     },
     "metadata": {},
     "output_type": "display_data"
    }
   ],
   "source": [
    "# Draw a nested barplot to show survival for class and sex\n",
    "g = sns.factorplot(x=\"entity\", y=\"avg_sentiment\", hue=\"sentiment_label\", data=groupby_label,\n",
    "                   size=6, kind=\"bar\", palette=\"muted\").set(ylim=(-.1, .3))\n",
    "g"
   ]
  },
  {
   "cell_type": "code",
   "execution_count": null,
   "metadata": {},
   "outputs": [],
   "source": []
  }
 ],
 "metadata": {
  "kernelspec": {
   "display_name": "Python Underwriter Notes",
   "language": "python",
   "name": "uw_notes"
  },
  "language_info": {
   "codemirror_mode": {
    "name": "ipython",
    "version": 3
   },
   "file_extension": ".py",
   "mimetype": "text/x-python",
   "name": "python",
   "nbconvert_exporter": "python",
   "pygments_lexer": "ipython3",
   "version": "3.6.5"
  }
 },
 "nbformat": 4,
 "nbformat_minor": 2
}
